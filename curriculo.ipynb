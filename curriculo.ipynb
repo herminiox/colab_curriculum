{
  "nbformat": 4,
  "nbformat_minor": 0,
  "metadata": {
    "colab": {
      "name": "curriculo.ipynb",
      "provenance": [],
      "collapsed_sections": [],
      "authorship_tag": "ABX9TyNzfznn2gXdGV5jOoJ1rHXq",
      "include_colab_link": true
    },
    "kernelspec": {
      "name": "python3",
      "display_name": "Python 3"
    },
    "language_info": {
      "name": "python"
    }
  },
  "cells": [
    {
      "cell_type": "markdown",
      "metadata": {
        "id": "view-in-github",
        "colab_type": "text"
      },
      "source": [
        "<a href=\"https://colab.research.google.com/github/herminiox/colab_curriculum/blob/main/curriculo.ipynb\" target=\"_parent\"><img src=\"https://colab.research.google.com/assets/colab-badge.svg\" alt=\"Open In Colab\"/></a>"
      ]
    },
    {
      "cell_type": "markdown",
      "source": [
        "<h1>\n",
        "Olá, Como vai?\n",
        "</h1>\n",
        "<p>\n",
        "Não sei como você chegou aqui, mas esse arquivo foi criado para ajudar a se apresentar de um jeito complementar e diferente, para quando tiver que entregar currículo. \n",
        "Lembre-se  que esse é só um jeito diferente, então pode ser melhorado. ;-)  \n",
        "</p>"
      ],
      "metadata": {
        "id": "sRHnVR3xPDBx"
      }
    },
    {
      "cell_type": "markdown",
      "source": [
        "\n",
        "<h1> Olá, Seja Bem-vindo! <h2>\n",
        "<p>Meu chamo Bruce Wayne e meu contatos são +55 61 99214 6666 e bat@gmail.com</p>\n",
        "<p> Este complemento curricular tem o objetivo de passar maiores informações sobre mim e minha carreira profissional até:</p>"
      ],
      "metadata": {
        "id": "R6I_ELhwO8xX"
      }
    },
    {
      "cell_type": "code",
      "source": [
        "from datetime import datetime\n",
        "now = datetime.now()\n",
        "print(now)"
      ],
      "metadata": {
        "colab": {
          "base_uri": "https://localhost:8080/"
        },
        "id": "tTE5y7aFRoci",
        "outputId": "bd6beb75-0cb5-447c-d3c9-77a64690c073"
      },
      "execution_count": 10,
      "outputs": [
        {
          "output_type": "stream",
          "name": "stdout",
          "text": [
            "2022-05-29 19:29:42.233109\n"
          ]
        }
      ]
    },
    {
      "cell_type": "markdown",
      "source": [
        "\n",
        "Aqui você coloca um video seu(de 20 a 40 segundos). Sobe ele para Youtube e altera aqui. Se não estiver seguro da qualidade do seu currículo, aproveita e veja o video que deixei aqui. (não sou eu no video!)\n",
        "\n",
        "<H1> Um pouco sobre mim...</h1>\n",
        "<center>\n",
        "  <a href=\"https://www.youtube.com/watch?v=0-9adyDGPz8\" target=\"_blank\">\n",
        "  <img alt='Miniatura de um vídeo mostrando três recursos interessantes do Google Colab' src=\"https://i.ytimg.com/an_webp/1GoPY3KK3jw/mqdefault_6s.webp?du=3000&sqp=CMiIz5QG&rs=AOn4CLAaGHKglftNoUxH1evx8a3EH3Nx4Q\">\n"
      ],
      "metadata": {
        "id": "HeZ5X99OS_Rd"
      }
    },
    {
      "cell_type": "markdown",
      "source": [
        "Neste ponto suas informações acadêmicas, cursos ou treinamentos que estão em uma planilha no google docs de nome \"cursos\"."
      ],
      "metadata": {
        "id": "WUY_A9JGWtro"
      }
    },
    {
      "cell_type": "markdown",
      "source": [
        "<h1> Informações laborais...</h1>"
      ],
      "metadata": {
        "id": "hqS5dioSkI0E"
      }
    },
    {
      "cell_type": "code",
      "source": [
        "from google.colab import auth\n",
        "auth.authenticate_user()\n",
        "\n",
        "import gspread\n",
        "from google.auth import default\n",
        "creds, _ = default()\n",
        "gc = gspread.authorize(creds)\n",
        "worksheet = gc.open('cursos').worksheet('sheet2')\n",
        "\n",
        "rows = worksheet.get_all_values()\n",
        "import pandas as pd\n",
        "pd.DataFrame.from_records(rows)\n"
      ],
      "metadata": {
        "colab": {
          "base_uri": "https://localhost:8080/",
          "height": 206
        },
        "id": "yvoLeNvekvxj",
        "outputId": "4001d211-f72b-45c0-b402-6855d90b4a9f"
      },
      "execution_count": 6,
      "outputs": [
        {
          "output_type": "execute_result",
          "data": {
            "text/plain": [
              "                0           1           2          3  \\\n",
              "0         Empresa      Inicio         Fim     Função   \n",
              "1  Justice League  14/07/2019  14/07/2021       Hero   \n",
              "2    Wayne Motors  13/07/2018  13/07/2019        CEO   \n",
              "3     Wayne Coorp  12/07/2016  12/07/2017  Executive   \n",
              "4      Freelancer  12/02/2015  12/06/2016    Playboy   \n",
              "\n",
              "                            4  \n",
              "0                    Projetos  \n",
              "1                  Save World  \n",
              "2  Military  Secretes Project  \n",
              "3           Suport the Owners  \n",
              "4      Partys, Private Partys  "
            ],
            "text/html": [
              "\n",
              "  <div id=\"df-1421cb85-dcb2-45aa-a864-26d0dd6f1fd7\">\n",
              "    <div class=\"colab-df-container\">\n",
              "      <div>\n",
              "<style scoped>\n",
              "    .dataframe tbody tr th:only-of-type {\n",
              "        vertical-align: middle;\n",
              "    }\n",
              "\n",
              "    .dataframe tbody tr th {\n",
              "        vertical-align: top;\n",
              "    }\n",
              "\n",
              "    .dataframe thead th {\n",
              "        text-align: right;\n",
              "    }\n",
              "</style>\n",
              "<table border=\"1\" class=\"dataframe\">\n",
              "  <thead>\n",
              "    <tr style=\"text-align: right;\">\n",
              "      <th></th>\n",
              "      <th>0</th>\n",
              "      <th>1</th>\n",
              "      <th>2</th>\n",
              "      <th>3</th>\n",
              "      <th>4</th>\n",
              "    </tr>\n",
              "  </thead>\n",
              "  <tbody>\n",
              "    <tr>\n",
              "      <th>0</th>\n",
              "      <td>Empresa</td>\n",
              "      <td>Inicio</td>\n",
              "      <td>Fim</td>\n",
              "      <td>Função</td>\n",
              "      <td>Projetos</td>\n",
              "    </tr>\n",
              "    <tr>\n",
              "      <th>1</th>\n",
              "      <td>Justice League</td>\n",
              "      <td>14/07/2019</td>\n",
              "      <td>14/07/2021</td>\n",
              "      <td>Hero</td>\n",
              "      <td>Save World</td>\n",
              "    </tr>\n",
              "    <tr>\n",
              "      <th>2</th>\n",
              "      <td>Wayne Motors</td>\n",
              "      <td>13/07/2018</td>\n",
              "      <td>13/07/2019</td>\n",
              "      <td>CEO</td>\n",
              "      <td>Military  Secretes Project</td>\n",
              "    </tr>\n",
              "    <tr>\n",
              "      <th>3</th>\n",
              "      <td>Wayne Coorp</td>\n",
              "      <td>12/07/2016</td>\n",
              "      <td>12/07/2017</td>\n",
              "      <td>Executive</td>\n",
              "      <td>Suport the Owners</td>\n",
              "    </tr>\n",
              "    <tr>\n",
              "      <th>4</th>\n",
              "      <td>Freelancer</td>\n",
              "      <td>12/02/2015</td>\n",
              "      <td>12/06/2016</td>\n",
              "      <td>Playboy</td>\n",
              "      <td>Partys, Private Partys</td>\n",
              "    </tr>\n",
              "  </tbody>\n",
              "</table>\n",
              "</div>\n",
              "      <button class=\"colab-df-convert\" onclick=\"convertToInteractive('df-1421cb85-dcb2-45aa-a864-26d0dd6f1fd7')\"\n",
              "              title=\"Convert this dataframe to an interactive table.\"\n",
              "              style=\"display:none;\">\n",
              "        \n",
              "  <svg xmlns=\"http://www.w3.org/2000/svg\" height=\"24px\"viewBox=\"0 0 24 24\"\n",
              "       width=\"24px\">\n",
              "    <path d=\"M0 0h24v24H0V0z\" fill=\"none\"/>\n",
              "    <path d=\"M18.56 5.44l.94 2.06.94-2.06 2.06-.94-2.06-.94-.94-2.06-.94 2.06-2.06.94zm-11 1L8.5 8.5l.94-2.06 2.06-.94-2.06-.94L8.5 2.5l-.94 2.06-2.06.94zm10 10l.94 2.06.94-2.06 2.06-.94-2.06-.94-.94-2.06-.94 2.06-2.06.94z\"/><path d=\"M17.41 7.96l-1.37-1.37c-.4-.4-.92-.59-1.43-.59-.52 0-1.04.2-1.43.59L10.3 9.45l-7.72 7.72c-.78.78-.78 2.05 0 2.83L4 21.41c.39.39.9.59 1.41.59.51 0 1.02-.2 1.41-.59l7.78-7.78 2.81-2.81c.8-.78.8-2.07 0-2.86zM5.41 20L4 18.59l7.72-7.72 1.47 1.35L5.41 20z\"/>\n",
              "  </svg>\n",
              "      </button>\n",
              "      \n",
              "  <style>\n",
              "    .colab-df-container {\n",
              "      display:flex;\n",
              "      flex-wrap:wrap;\n",
              "      gap: 12px;\n",
              "    }\n",
              "\n",
              "    .colab-df-convert {\n",
              "      background-color: #E8F0FE;\n",
              "      border: none;\n",
              "      border-radius: 50%;\n",
              "      cursor: pointer;\n",
              "      display: none;\n",
              "      fill: #1967D2;\n",
              "      height: 32px;\n",
              "      padding: 0 0 0 0;\n",
              "      width: 32px;\n",
              "    }\n",
              "\n",
              "    .colab-df-convert:hover {\n",
              "      background-color: #E2EBFA;\n",
              "      box-shadow: 0px 1px 2px rgba(60, 64, 67, 0.3), 0px 1px 3px 1px rgba(60, 64, 67, 0.15);\n",
              "      fill: #174EA6;\n",
              "    }\n",
              "\n",
              "    [theme=dark] .colab-df-convert {\n",
              "      background-color: #3B4455;\n",
              "      fill: #D2E3FC;\n",
              "    }\n",
              "\n",
              "    [theme=dark] .colab-df-convert:hover {\n",
              "      background-color: #434B5C;\n",
              "      box-shadow: 0px 1px 3px 1px rgba(0, 0, 0, 0.15);\n",
              "      filter: drop-shadow(0px 1px 2px rgba(0, 0, 0, 0.3));\n",
              "      fill: #FFFFFF;\n",
              "    }\n",
              "  </style>\n",
              "\n",
              "      <script>\n",
              "        const buttonEl =\n",
              "          document.querySelector('#df-1421cb85-dcb2-45aa-a864-26d0dd6f1fd7 button.colab-df-convert');\n",
              "        buttonEl.style.display =\n",
              "          google.colab.kernel.accessAllowed ? 'block' : 'none';\n",
              "\n",
              "        async function convertToInteractive(key) {\n",
              "          const element = document.querySelector('#df-1421cb85-dcb2-45aa-a864-26d0dd6f1fd7');\n",
              "          const dataTable =\n",
              "            await google.colab.kernel.invokeFunction('convertToInteractive',\n",
              "                                                     [key], {});\n",
              "          if (!dataTable) return;\n",
              "\n",
              "          const docLinkHtml = 'Like what you see? Visit the ' +\n",
              "            '<a target=\"_blank\" href=https://colab.research.google.com/notebooks/data_table.ipynb>data table notebook</a>'\n",
              "            + ' to learn more about interactive tables.';\n",
              "          element.innerHTML = '';\n",
              "          dataTable['output_type'] = 'display_data';\n",
              "          await google.colab.output.renderOutput(dataTable, element);\n",
              "          const docLink = document.createElement('div');\n",
              "          docLink.innerHTML = docLinkHtml;\n",
              "          element.appendChild(docLink);\n",
              "        }\n",
              "      </script>\n",
              "    </div>\n",
              "  </div>\n",
              "  "
            ]
          },
          "metadata": {},
          "execution_count": 6
        }
      ]
    },
    {
      "cell_type": "markdown",
      "source": [
        "<h1> Informações acadêmicas e cursos... </h1>"
      ],
      "metadata": {
        "id": "xaYbWbnxXej8"
      }
    },
    {
      "cell_type": "markdown",
      "source": [
        "Sei! já pensou se colocar mais dados...será que cabe um gráfico parar mostrar o seu historico?"
      ],
      "metadata": {
        "id": "E6OpI0zZXrN2"
      }
    },
    {
      "cell_type": "code",
      "source": [
        "from google.colab import auth\n",
        "auth.authenticate_user()\n",
        "\n",
        "import gspread\n",
        "from google.auth import default\n",
        "creds, _ = default()\n",
        "gc = gspread.authorize(creds)\n",
        "worksheet = gc.open('cursos').sheet1\n",
        "\n",
        "rows = worksheet.get_all_values()\n",
        "import pandas as pd\n",
        "pd.DataFrame.from_records(rows)\n"
      ],
      "metadata": {
        "colab": {
          "base_uri": "https://localhost:8080/",
          "height": 206
        },
        "id": "c1po7-SKnpVE",
        "outputId": "d3bc0d8e-2836-43b3-c02b-c2b33e6ce7e9"
      },
      "execution_count": 1,
      "outputs": [
        {
          "output_type": "execute_result",
          "data": {
            "text/plain": [
              "                                      0                    1      2        3  \\\n",
              "0                                 curso          instituicao  tempo   medida   \n",
              "1                 Ciência da Informação                  UCB      5     anos   \n",
              "2                        Banco de dados                  UCB      2     anos   \n",
              "3  Certified Information System Auditor               Darius     80    horas   \n",
              "4                 Python for every bory  Michigan University      3  Semanas   \n",
              "\n",
              "               4  \n",
              "0           tipo  \n",
              "1       Gradução  \n",
              "2  Pos-Graduação  \n",
              "3     Presencial  \n",
              "4        On-line  "
            ],
            "text/html": [
              "\n",
              "  <div id=\"df-afea7704-d4f6-4f67-9eba-9a7791de4c5c\">\n",
              "    <div class=\"colab-df-container\">\n",
              "      <div>\n",
              "<style scoped>\n",
              "    .dataframe tbody tr th:only-of-type {\n",
              "        vertical-align: middle;\n",
              "    }\n",
              "\n",
              "    .dataframe tbody tr th {\n",
              "        vertical-align: top;\n",
              "    }\n",
              "\n",
              "    .dataframe thead th {\n",
              "        text-align: right;\n",
              "    }\n",
              "</style>\n",
              "<table border=\"1\" class=\"dataframe\">\n",
              "  <thead>\n",
              "    <tr style=\"text-align: right;\">\n",
              "      <th></th>\n",
              "      <th>0</th>\n",
              "      <th>1</th>\n",
              "      <th>2</th>\n",
              "      <th>3</th>\n",
              "      <th>4</th>\n",
              "    </tr>\n",
              "  </thead>\n",
              "  <tbody>\n",
              "    <tr>\n",
              "      <th>0</th>\n",
              "      <td>curso</td>\n",
              "      <td>instituicao</td>\n",
              "      <td>tempo</td>\n",
              "      <td>medida</td>\n",
              "      <td>tipo</td>\n",
              "    </tr>\n",
              "    <tr>\n",
              "      <th>1</th>\n",
              "      <td>Ciência da Informação</td>\n",
              "      <td>UCB</td>\n",
              "      <td>5</td>\n",
              "      <td>anos</td>\n",
              "      <td>Gradução</td>\n",
              "    </tr>\n",
              "    <tr>\n",
              "      <th>2</th>\n",
              "      <td>Banco de dados</td>\n",
              "      <td>UCB</td>\n",
              "      <td>2</td>\n",
              "      <td>anos</td>\n",
              "      <td>Pos-Graduação</td>\n",
              "    </tr>\n",
              "    <tr>\n",
              "      <th>3</th>\n",
              "      <td>Certified Information System Auditor</td>\n",
              "      <td>Darius</td>\n",
              "      <td>80</td>\n",
              "      <td>horas</td>\n",
              "      <td>Presencial</td>\n",
              "    </tr>\n",
              "    <tr>\n",
              "      <th>4</th>\n",
              "      <td>Python for every bory</td>\n",
              "      <td>Michigan University</td>\n",
              "      <td>3</td>\n",
              "      <td>Semanas</td>\n",
              "      <td>On-line</td>\n",
              "    </tr>\n",
              "  </tbody>\n",
              "</table>\n",
              "</div>\n",
              "      <button class=\"colab-df-convert\" onclick=\"convertToInteractive('df-afea7704-d4f6-4f67-9eba-9a7791de4c5c')\"\n",
              "              title=\"Convert this dataframe to an interactive table.\"\n",
              "              style=\"display:none;\">\n",
              "        \n",
              "  <svg xmlns=\"http://www.w3.org/2000/svg\" height=\"24px\"viewBox=\"0 0 24 24\"\n",
              "       width=\"24px\">\n",
              "    <path d=\"M0 0h24v24H0V0z\" fill=\"none\"/>\n",
              "    <path d=\"M18.56 5.44l.94 2.06.94-2.06 2.06-.94-2.06-.94-.94-2.06-.94 2.06-2.06.94zm-11 1L8.5 8.5l.94-2.06 2.06-.94-2.06-.94L8.5 2.5l-.94 2.06-2.06.94zm10 10l.94 2.06.94-2.06 2.06-.94-2.06-.94-.94-2.06-.94 2.06-2.06.94z\"/><path d=\"M17.41 7.96l-1.37-1.37c-.4-.4-.92-.59-1.43-.59-.52 0-1.04.2-1.43.59L10.3 9.45l-7.72 7.72c-.78.78-.78 2.05 0 2.83L4 21.41c.39.39.9.59 1.41.59.51 0 1.02-.2 1.41-.59l7.78-7.78 2.81-2.81c.8-.78.8-2.07 0-2.86zM5.41 20L4 18.59l7.72-7.72 1.47 1.35L5.41 20z\"/>\n",
              "  </svg>\n",
              "      </button>\n",
              "      \n",
              "  <style>\n",
              "    .colab-df-container {\n",
              "      display:flex;\n",
              "      flex-wrap:wrap;\n",
              "      gap: 12px;\n",
              "    }\n",
              "\n",
              "    .colab-df-convert {\n",
              "      background-color: #E8F0FE;\n",
              "      border: none;\n",
              "      border-radius: 50%;\n",
              "      cursor: pointer;\n",
              "      display: none;\n",
              "      fill: #1967D2;\n",
              "      height: 32px;\n",
              "      padding: 0 0 0 0;\n",
              "      width: 32px;\n",
              "    }\n",
              "\n",
              "    .colab-df-convert:hover {\n",
              "      background-color: #E2EBFA;\n",
              "      box-shadow: 0px 1px 2px rgba(60, 64, 67, 0.3), 0px 1px 3px 1px rgba(60, 64, 67, 0.15);\n",
              "      fill: #174EA6;\n",
              "    }\n",
              "\n",
              "    [theme=dark] .colab-df-convert {\n",
              "      background-color: #3B4455;\n",
              "      fill: #D2E3FC;\n",
              "    }\n",
              "\n",
              "    [theme=dark] .colab-df-convert:hover {\n",
              "      background-color: #434B5C;\n",
              "      box-shadow: 0px 1px 3px 1px rgba(0, 0, 0, 0.15);\n",
              "      filter: drop-shadow(0px 1px 2px rgba(0, 0, 0, 0.3));\n",
              "      fill: #FFFFFF;\n",
              "    }\n",
              "  </style>\n",
              "\n",
              "      <script>\n",
              "        const buttonEl =\n",
              "          document.querySelector('#df-afea7704-d4f6-4f67-9eba-9a7791de4c5c button.colab-df-convert');\n",
              "        buttonEl.style.display =\n",
              "          google.colab.kernel.accessAllowed ? 'block' : 'none';\n",
              "\n",
              "        async function convertToInteractive(key) {\n",
              "          const element = document.querySelector('#df-afea7704-d4f6-4f67-9eba-9a7791de4c5c');\n",
              "          const dataTable =\n",
              "            await google.colab.kernel.invokeFunction('convertToInteractive',\n",
              "                                                     [key], {});\n",
              "          if (!dataTable) return;\n",
              "\n",
              "          const docLinkHtml = 'Like what you see? Visit the ' +\n",
              "            '<a target=\"_blank\" href=https://colab.research.google.com/notebooks/data_table.ipynb>data table notebook</a>'\n",
              "            + ' to learn more about interactive tables.';\n",
              "          element.innerHTML = '';\n",
              "          dataTable['output_type'] = 'display_data';\n",
              "          await google.colab.output.renderOutput(dataTable, element);\n",
              "          const docLink = document.createElement('div');\n",
              "          docLink.innerHTML = docLinkHtml;\n",
              "          element.appendChild(docLink);\n",
              "        }\n",
              "      </script>\n",
              "    </div>\n",
              "  </div>\n",
              "  "
            ]
          },
          "metadata": {},
          "execution_count": 1
        }
      ]
    },
    {
      "cell_type": "code",
      "source": [
        "rs = pd.DataFrame.from_records(rows)\n",
        "th = 0\n",
        "\n",
        "for ln in rs.itertuples(index=\"false\", name=\"curso\"):\n",
        "    if ln[4] == \"anos\" :\n",
        "      th = th +  int(ln[3])*252*8\n",
        "    elif ln[4] == \"meses\" :\n",
        "      th =th + int(ln[3])*21*8\n",
        "    elif ln[4] == \"Semanas\" :\n",
        "      th =th + int(ln[3])*7*8\n",
        "\n",
        "print(\"TOTAL DE HORAS DE CURSOS: \"+ str(th)+\"hs.\")"
      ],
      "metadata": {
        "colab": {
          "base_uri": "https://localhost:8080/"
        },
        "id": "j1ILmpTx_Uxq",
        "outputId": "1600a6fc-80b9-4454-b1eb-4d9e161ee0f3"
      },
      "execution_count": 40,
      "outputs": [
        {
          "output_type": "stream",
          "name": "stdout",
          "text": [
            "TOTAL DE HORAS DE CURSOS: 14280hs.\n"
          ]
        }
      ]
    },
    {
      "cell_type": "markdown",
      "source": [
        "No trecho acima cabe um tratamento diferente , o que acha? (mãos a obra)."
      ],
      "metadata": {
        "id": "TG_2FNgcXWV4"
      }
    }
  ]
}